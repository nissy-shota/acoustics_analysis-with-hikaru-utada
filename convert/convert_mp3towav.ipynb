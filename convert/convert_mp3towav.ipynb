{
  "nbformat": 4,
  "nbformat_minor": 0,
  "metadata": {
    "colab": {
      "name": "convert_mp3towav.ipynb",
      "provenance": []
    },
    "kernelspec": {
      "name": "python3",
      "display_name": "Python 3"
    },
    "language_info": {
      "name": "python"
    }
  },
  "cells": [
    {
      "cell_type": "code",
      "metadata": {
        "colab": {
          "base_uri": "https://localhost:8080/"
        },
        "id": "vfzjq6EP5LWX",
        "outputId": "2f05c5dc-fb14-4276-ecb7-d184a60503dd"
      },
      "source": [
        "from google.colab import drive\n",
        "drive.mount('/content/drive')"
      ],
      "execution_count": 1,
      "outputs": [
        {
          "output_type": "stream",
          "name": "stdout",
          "text": [
            "Mounted at /content/drive\n"
          ]
        }
      ]
    },
    {
      "cell_type": "code",
      "metadata": {
        "colab": {
          "base_uri": "https://localhost:8080/"
        },
        "id": "vcwJB0mV7PNK",
        "outputId": "688800e4-725b-4d18-f970-1d6e2f9a2baa"
      },
      "source": [
        "!pip install pydub"
      ],
      "execution_count": 16,
      "outputs": [
        {
          "output_type": "stream",
          "name": "stdout",
          "text": [
            "Requirement already satisfied: pydub in /usr/local/lib/python3.7/dist-packages (0.25.1)\n"
          ]
        }
      ]
    },
    {
      "cell_type": "code",
      "metadata": {
        "id": "V3-UuVCV6GGt"
      },
      "source": [
        "import os\n",
        "import librosa\n",
        "import pydub"
      ],
      "execution_count": 17,
      "outputs": []
    },
    {
      "cell_type": "code",
      "metadata": {
        "id": "HVaBHpux5-kd"
      },
      "source": [
        "#CONFIG\n",
        "EXT = 'mp3'\n",
        "EXT_WAV = 'wav'"
      ],
      "execution_count": 21,
      "outputs": []
    },
    {
      "cell_type": "code",
      "metadata": {
        "id": "fAgCqPOl5MQg"
      },
      "source": [
        "HIKARU_UTADA_DIR = '/content/drive/MyDrive/Music/Hikaru_Utada'\n",
        "ALBUM_NAME = 'Fantome'\n",
        "MUSIC_NAME = 'oreno-kanojyo'"
      ],
      "execution_count": 22,
      "outputs": []
    },
    {
      "cell_type": "code",
      "metadata": {
        "id": "eOH8luil6QL2"
      },
      "source": [
        "MUSIC_FILE = MUSIC_NAME + '.' + EXT"
      ],
      "execution_count": 23,
      "outputs": []
    },
    {
      "cell_type": "code",
      "metadata": {
        "colab": {
          "base_uri": "https://localhost:8080/"
        },
        "id": "oma50xxt5-GE",
        "outputId": "3a5f698d-434c-44c7-c296-d24be0b7ebdd"
      },
      "source": [
        "load_path = os.path.join(HIKARU_UTADA_DIR, ALBUM_NAME, MUSIC_FILE)\n",
        "print(load_path)"
      ],
      "execution_count": 24,
      "outputs": [
        {
          "output_type": "stream",
          "name": "stdout",
          "text": [
            "/content/drive/MyDrive/Music/Hikaru_Utada/Fantome/oreno-kanojyo.mp3\n"
          ]
        }
      ]
    },
    {
      "cell_type": "markdown",
      "metadata": {
        "id": "F4zLfmL67VbW"
      },
      "source": [
        "convert"
      ]
    },
    {
      "cell_type": "code",
      "metadata": {
        "id": "QyNeQb3x7moE"
      },
      "source": [
        "SAVE_DIR = '/content/drive/MyDrive/acousitics_analysis'"
      ],
      "execution_count": 25,
      "outputs": []
    },
    {
      "cell_type": "code",
      "metadata": {
        "id": "cZ6y9IHn8CE3"
      },
      "source": [
        "save_file_name = MUSIC_NAME + '.' + EXT_WAV"
      ],
      "execution_count": 26,
      "outputs": []
    },
    {
      "cell_type": "code",
      "metadata": {
        "id": "RBofeVW073Ik"
      },
      "source": [
        "save_path = os.path.join(SAVE_DIR, ALBUM_NAME, save_file_name)"
      ],
      "execution_count": 30,
      "outputs": []
    },
    {
      "cell_type": "code",
      "metadata": {
        "colab": {
          "base_uri": "https://localhost:8080/"
        },
        "id": "UnOJORK47U9Z",
        "outputId": "5b952396-c3da-447d-bae9-f5b507f55e69"
      },
      "source": [
        "sound = pydub.AudioSegment.from_mp3(load_path)\n",
        "sound.export(save_path, format=\"wav\")"
      ],
      "execution_count": 31,
      "outputs": [
        {
          "output_type": "execute_result",
          "data": {
            "text/plain": [
              "<_io.BufferedRandom name='/content/drive/MyDrive/acousitics_analysis/Fantome/oreno-kanojyo.wav'>"
            ]
          },
          "metadata": {},
          "execution_count": 31
        }
      ]
    }
  ]
}